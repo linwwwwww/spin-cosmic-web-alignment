{
 "cells": [
  {
   "cell_type": "code",
   "execution_count": 2,
   "metadata": {},
   "outputs": [
    {
     "data": {
      "text/plain": [
       "(-3, 2)"
      ]
     },
     "execution_count": 2,
     "metadata": {},
     "output_type": "execute_result"
    },
    {
     "data": {
      "image/png": "[encoded data removed]",
      "text/plain": [
       "<Figure size 360x360 with 1 Axes>"
      ]
     },
     "metadata": {
      "needs_background": "light"
     },
     "output_type": "display_data"
    }
   ],
   "source": [
    "# 计算在WMAP5宇宙中Ludlow模型给出的c-M关系\n",
    "from scipy import integrate\n",
    "#import sympy\n",
    "#import time\n",
    "import numpy as np\n",
    "import matplotlib.pyplot as plt\n",
    "\n",
    "z = 0.5\n",
    "def E(z):\n",
    "    E0 = (Omega_m*(1+z)**3+Omega_L)**(1/2)\n",
    "    return E0\n",
    "\n",
    "Omega_m = 0.307\n",
    "Omega_L = 0.693\n",
    "Omega_b = 0.04825\n",
    "# Omega_mz = Omega_m*(1+z)**3/E(z)**2\n",
    "# Omega_Lz = Omega_L/E(z)**2\n",
    "# Omega_bz = Omega_b*(1+z)**3/E(z)**2\n",
    "\n",
    "h = 0.6777\n",
    "R_8 = 8  #h^-1 Mpc\n",
    "sigma_8 = 0.8288\n",
    "\n",
    "rho_m = 2.776*10**11*Omega_m # h^2 M_sun Mpc^-3\n",
    "#rho_m = 2.776*10**11 # h^2 M_sun Mpc^-3\n",
    "def T(k):\n",
    "    Gamma = Omega_m*h*np.exp(-Omega_b*(1+np.sqrt(2*h)/Omega_m))\n",
    "    q = k/Gamma # h Mpc^-1\n",
    "    T0 = np.log(1+2.34*q)/(2.34*q)*(1+3.89*q+(16.1*q)**2+(5.46*q)**3\\\n",
    "                                    +(6.71*q)**4)**(-0.25)\n",
    "    return T0\n",
    "\n",
    "def P(k):\n",
    "    P1 = k*T(k)**2\n",
    "    #print(P1)\n",
    "    return P1\n",
    "\n",
    "def W(x):\n",
    "    #start_time = time.time()\n",
    "    W0 =  3*(np.sin(x)-x*np.cos(x))/x**3\n",
    "    #print(W0)\n",
    "    #W0 = np.exp(-x**2/2)\n",
    "    #end_time = time.time()\n",
    "    #print(end_time-start_time)\n",
    "    return W0\n",
    "\n",
    "def Sigma(M):\n",
    "    #start_time = time.time()\n",
    "    rho_m = 2.776*10**11*Omega_m # h^2 M_sun Mpc^-3  ###### \n",
    "    r = ((M/rho_m)/(4/3*np.pi))**(1/3)  #h^-1 Mpc\n",
    "    #print(r)\n",
    "    #sigma2_8 = integrate.quad(lambda k : 1/(2*np.pi**2)*k**2*P(k)*W(k*R_8)**2, 0, 200)[0]\n",
    "    sigma2_8 = integrate.quad(lambda k : 1/(2*np.pi**2)*k**2*P(k)*W(k*R_8)**2, 0, 200)[0]\n",
    "    c1 = sigma_8**2/sigma2_8\n",
    "    #print(c1)\n",
    "    #sigma2 = c1*integrate.quad(lambda k : 1/(2*np.pi**2)*k**2*P(k)*W(k*r)**2, 0, np.inf)[0]\n",
    "    #print(r)\n",
    "    if r<100:\n",
    "        sigma2 = c1*integrate.quad(lambda k : (1/(2*np.pi**2)*k**2*P(k)*W(k*r)**2), 0.0, np.inf)[0]\n",
    "    else:\n",
    "        sigma2 = c1*integrate.quad(lambda k : (1/(2*np.pi**2)*k**2*P(k)*W(k*r)**2), 0.0, 0.2)[0] \n",
    "    #end_time = time.time()\n",
    "    #print(end_time-start_time)\n",
    "    return sigma2**0.5\n",
    "\n",
    "# 建立logSigma和logM的拟合关系，可由logM直接计算logSigma\n",
    "rho_m = 2.776*10**11*Omega_m # h^2 M_sun Mpc^-3\n",
    "M_LCDM1 = np.linspace(5, 14, 1000)  # h^-1 M_sun\n",
    "\n",
    "Sigma_LCDM1 = []\n",
    "for m in M_LCDM1:\n",
    "    Sigma_LCDM1.append(Sigma(10**m))\n",
    "\n",
    "a = np.polyfit(M_LCDM1, np.log10(Sigma_LCDM1), 5)#用2次多项式拟合x，y数组\n",
    "logsigma_logm = np.poly1d(a)#拟合完之后用这个函数来生成多项式对象\n",
    "logsigma_plot = logsigma_logm(M_LCDM1)\n",
    "%matplotlib inline\n",
    "fig = plt.figure(figsize = (5,5))\n",
    "plt.scatter(M_LCDM1, np.log10(Sigma_LCDM1), s = 3)\n",
    "plt.plot(M_LCDM1, logsigma_plot)\n",
    "plt.xlim(4,20)\n",
    "plt.ylim(-3,2)\n"
   ]
  },
  {
   "cell_type": "code",
   "execution_count": 5,
   "metadata": {},
   "outputs": [
    {
     "data": {
      "text/plain": [
       "(-10, 2)"
      ]
     },
     "execution_count": 5,
     "metadata": {},
     "output_type": "execute_result"
    },
    {
     "data": {
      "image/png": "[encoded data removed]",
      "text/plain": [
       "<Figure size 360x360 with 1 Axes>"
      ]
     },
     "metadata": {
      "needs_background": "light"
     },
     "output_type": "display_data"
    }
   ],
   "source": [
    "fig = plt.figure(figsize = (5,5))\n",
    "plt.scatter(M_LCDM1, np.log10(Sigma_LCDM1), s = 3)\n",
    "plt.plot(M_LCDM1, logsigma_plot)\n",
    "plt.xlim(1,30)\n",
    "plt.ylim(-10,2)\n"
   ]
  },
  {
   "cell_type": "code",
   "execution_count": null,
   "metadata": {},
   "outputs": [],
   "source": [
    "def g(z):\n",
    "    Omega_mz = Omega_m*(1+z)**3/E(z)**2\n",
    "    Omega_Lz = Omega_L/E(z)**2\n",
    "    g0 = 2.5*Omega_mz*(Omega_mz**(4/7)-Omega_Lz+(1+Omega_mz/2)*(1+Omega_Lz/70))**(-1)\n",
    "    return g0\n",
    "       \n",
    "def D(z):\n",
    "    d = g(z)/(g(0)*(1+z))\n",
    "    return d\n",
    "\n",
    "def Delta_c(z):\n",
    "    delta_z = 1.686/D(z)\n",
    "    return delta_z\n",
    "\n",
    "Logm = np.linspace(6,16,100000)\n",
    "Mu = []\n",
    "for logm in Logm:\n",
    "    \n",
    "    mu = Delta_c(z)/10**logsigma_logm(logm)\n",
    "    Mu.append(mu)\n",
    "Mu = np.array(Mu)    \n",
    "Mu_1,Mu_2,Mu_3 = Mu-1, Mu-2, Mu-3\n",
    "cha_halo_m=10**Logm[[list(abs(Mu-1)).index(min(abs(Mu_1)))]]\n",
    "print(cha_halo_m)\n",
    "mu_1_logmass,mu_2_logmass,mu_3_logmass = Logm[list(abs(Mu-1)).index(min(abs(Mu_1)))],\\\n",
    "                 Logm[list(abs(Mu-1)).index(min(abs(Mu_1)))],\\\n",
    "                 Logm[list(abs(Mu-1)).index(min(abs(Mu_1)))]\n"
   ]
  }
 ],
 "metadata": {
  "kernelspec": {
   "display_name": "Python 3",
   "language": "python",
   "name": "python3"
  },
  "language_info": {
   "codemirror_mode": {
    "name": "ipython",
    "version": 3
   },
   "file_extension": ".py",
   "mimetype": "text/x-python",
   "name": "python",
   "nbconvert_exporter": "python",
   "pygments_lexer": "ipython3",
   "version": "3.7.2"
  }
 },
 "nbformat": 4,
 "nbformat_minor": 4
}
