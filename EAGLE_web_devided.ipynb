{
 "cells": [
  {
   "cell_type": "code",
   "execution_count": 14,
   "metadata": {},
   "outputs": [],
   "source": [
    "import numpy as np\n",
    "from scipy.ndimage import gaussian_filter\n",
    "import tqdm\n",
    "from tqdm import trange, tqdm\n",
    "\n",
    "n=np.arange(7)\n",
    "Rsall=1/2*np.sqrt(2)**n"
   ]
  },
  {
   "cell_type": "code",
   "execution_count": 36,
   "metadata": {},
   "outputs": [
    {
     "name": "stderr",
     "output_type": "stream",
     "text": [
      "/home/heyi/anaconda3/lib/python3.7/site-packages/ipykernel_launcher.py:27: RuntimeWarning: divide by zero encountered in true_divide\n",
      "/home/heyi/anaconda3/lib/python3.7/site-packages/ipykernel_launcher.py:27: RuntimeWarning: invalid value encountered in true_divide\n"
     ]
    }
   ],
   "source": [
    "nd=np.load(\"/data/dell5/userdir/heyi/EAGLE/5.21_gu_256.npy\")\n",
    "for i in trange(7):\n",
    "    Rs=1/2*np.sqrt(2)**i\n",
    "    N=256#网格数目\n",
    "    #空网格加上平均数密度\n",
    "    ave=np.sum(nd)/N/N/N\n",
    "    nd=(nd-ave)/ave\n",
    "\n",
    "    deltk=np.fft.fftn(nd) #傅里叶转换\n",
    "\n",
    "    s=1.5*(0.307-0.0455)*0.6777**2*10**4\n",
    "    v=2*np.pi/67.77            #2*pi/L L为box长度\n",
    "    a=np.fft.fftfreq(N,1./N)\n",
    "\n",
    "    nx=a[:,None,None]+np.zeros_like(a[None,:,None])+np.zeros_like(a[None,None,:])\n",
    "    ny=a[None,:,None]+np.zeros_like(a[:,None,None])+np.zeros_like(a[None,None,:])\n",
    "    nz=a[None,None,:]+np.zeros_like(a[:,None,None])+np.zeros_like(a[None,:,None])\n",
    "\n",
    "    deltk=deltk/(np.sinc(nx/N)*np.sinc(ny/N)*np.sinc(nz/N))**2\n",
    "\n",
    "    k=np.sqrt((v*nx)**2+(v*ny)**2+(v*nz)**2)\n",
    "    deltk=deltk*np.exp(-0.5*k*k*Rs**2)\n",
    "\n",
    "    fik=s*deltk/(-k**2)\n",
    "\n",
    "    #fik=fik*np.exp(-0.5*k*k*100)#直接求T 二阶偏导\n",
    "    fik[0,0,0]=0.0\n",
    "\n",
    "    h11=-fik*v*nx*v*nx\n",
    "    h12=h21=-fik*v*nx*v*ny\n",
    "    h13=h31=-fik*v*nx*v*nz\n",
    "    h22=-fik*v*ny*v*ny\n",
    "    h23=h32=-fik*v*ny*v*nz\n",
    "    h33=-fik*v*nz*v*nz\n",
    "\n",
    "    h11=np.fft.ifftn(h11)\n",
    "    h12=h21=np.fft.ifftn(h12)\n",
    "    h13=h31=np.fft.ifftn(h13)\n",
    "    h22=np.fft.ifftn(h22)\n",
    "    h23=h32=np.fft.ifftn(h23)\n",
    "    h33=np.fft.ifftn(h33)\n",
    "\n",
    "    h11=h11.reshape(N**3,1).real\n",
    "    h12=h21=h12.reshape(N**3,1).real\n",
    "    h13=h31=h13.reshape(N**3,1).real\n",
    "    h22=h22.reshape(N**3,1).real\n",
    "    h23=h32=h23.reshape(N**3,1).real\n",
    "    h33=h33.reshape(N**3,1).real\n",
    "\n",
    "\n",
    "    ten=np.hstack((h11,h12,h13,h21,h22,h23,h31,h32,h33)).reshape(-1,3,3)\n",
    "    ten=np.array(ten,dtype=np.float32)\n",
    "    lm,l=np.linalg.eig(ten)\n",
    "    lmdn=np.ones((N**3,12),dtype=np.float32)\n",
    "    lmdn[:,0]=lm[:,0]\n",
    "    lmdn[:,1:4]=l[:,:,0]\n",
    "    lmdn[:,4]=lm[:,1]\n",
    "    lmdn[:,5:8]=l[:,:,1]\n",
    "    lmdn[:,8]=lm[:,2]\n",
    "    lmdn[:,9:12]=l[:,:,2]\n",
    "\n",
    "\n",
    "    s=1.5*(0.307-0.0455)*0.6777**2*10**4\n",
    "  \n",
    "    eig=lmdn\n",
    "    eig[:,0]=eig[:,0]/s\n",
    "    eig[:,4]=eig[:,4]/s\n",
    "    eig[:,8]=eig[:,8]/s\n",
    "\n",
    "    print (1)\n",
    "    lmd=np.zeros((N**3,3),dtype=np.float)\n",
    "    n1=np.zeros((N**3,3),dtype=np.float)\n",
    "    n2=np.zeros((N**3,3),dtype=np.float)\n",
    "    n3=np.zeros((N**3,3),dtype=np.float)\n",
    "\n",
    "    lmd[:,0]=eig[:,0]\n",
    "    lmd[:,1]=eig[:,4]\n",
    "    lmd[:,2]=eig[:,8]\n",
    "\n",
    "    print(2) \n",
    "    n1[:,0:3]=eig[:,1:4]\n",
    "    n2[:,0:3]=eig[:,5:8]\n",
    "    n3[:,0:3]=eig[:,9:12]\n",
    "    print(3)\n",
    "    Rsstr=np.str(Rs)\n",
    "    np.save('/data/dell5/userdir/hy/EAGLE_NEXUSw_256_'+Rsstr+'smooth_200911.npy',lmd)\n",
    "    np.save('/data/dell5/userdir/hy/EAGLE_NEXUSv_256_'+Rsstr+'smooth_200911.npy',v)    "
   ]
  },
  {
   "cell_type": "code",
   "execution_count": 37,
   "metadata": {},
   "outputs": [
    {
     "name": "stdout",
     "output_type": "stream",
     "text": [
      "1\n",
      "2\n",
      "3\n",
      "4\n",
      "5\n",
      "6\n"
     ]
    }
   ],
   "source": [
    "a=lmd>Rth\n",
    "\n",
    "print(4)\n",
    "b=a[:,0]*2**2+a[:,1]*2+a[:,2]*1\n",
    "c=(b==7)*3\n",
    "f=((b==6)|(b==5)|(b==3))*2\n",
    "s=((b==4)|(b==2)|(b==1))*1\n",
    "v=(b==0)*0\n",
    "\n",
    "fil=c+f+s+v\n",
    "print(5)\n",
    "filn1=(b==6).reshape(-1,1)*n3\n",
    "filn2=(b==5).reshape(-1,1)*n2\n",
    "filn3=(b==3).reshape(-1,1)*n1\n",
    "filn=filn1[:,0:3]+filn2[:,0:3]+filn3[:,0:3]\n",
    "print(6)\n"
   ]
  },
  {
   "cell_type": "code",
   "execution_count": 38,
   "metadata": {},
   "outputs": [],
   "source": [
    "lmd=lmd.reshape(N,N,N,3)\n",
    "v=np.zeros([N,N,N,3,3])\n",
    "v[0:N,0:N,0:N,0,0:3]=n1.reshape(N,N,N,3)\n",
    "v[0:N,0:N,0:N,1,0:3]=n2.reshape(N,N,N,3)\n",
    "v[0:N,0:N,0:N,2,0:3]=n3.reshape(N,N,N,3)"
   ]
  },
  {
   "cell_type": "code",
   "execution_count": 39,
   "metadata": {},
   "outputs": [
    {
     "name": "stdout",
     "output_type": "stream",
     "text": [
      "-996461445766118.2 122547091643268.2 449998866902235.3 423915487220614.9\n"
     ]
    }
   ],
   "source": [
    "fil=fil.reshape(N,N,N)\n",
    "c=fil\n",
    "voidpos=np.where(c==0)\n",
    "sheetpos=np.where(c==1)\n",
    "filpos=np.where(c==2)\n",
    "clusterpos=np.where(c==3)"
   ]
  },
  {
   "cell_type": "code",
   "execution_count": 53,
   "metadata": {},
   "outputs": [],
   "source": [
    "np.save('/data/dell5/userdir/hy/EAGLEfil_256_1.6smooth_0.8Rs_heyi200910.npy',fil)"
   ]
  },
  {
   "cell_type": "code",
   "execution_count": 54,
   "metadata": {},
   "outputs": [],
   "source": [
    "np.save('/data/dell5/userdir/hy/EAGLEw_256_1.6smooth_0.8Rs_heyi200910.npy',lmd)\n",
    "np.save('/data/dell5/userdir/hy/EAGLEv_256_1.6smooth_0.8Rs_heyi200910.npy',v)"
   ]
  },
  {
   "cell_type": "code",
   "execution_count": null,
   "metadata": {},
   "outputs": [],
   "source": []
  }
 ],
 "metadata": {
  "kernelspec": {
   "display_name": "Python 3",
   "language": "python",
   "name": "python3"
  },
  "language_info": {
   "codemirror_mode": {
    "name": "ipython",
    "version": 3
   },
   "file_extension": ".py",
   "mimetype": "text/x-python",
   "name": "python",
   "nbconvert_exporter": "python",
   "pygments_lexer": "ipython3",
   "version": "3.7.0"
  }
 },
 "nbformat": 4,
 "nbformat_minor": 2
}
