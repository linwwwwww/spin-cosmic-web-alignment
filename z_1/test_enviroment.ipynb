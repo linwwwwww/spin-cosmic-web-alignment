{
 "cells": [
  {
   "cell_type": "code",
   "execution_count": 2,
   "metadata": {},
   "outputs": [],
   "source": [
    "import numpy as np\n",
    "N=256"
   ]
  },
  {
   "cell_type": "markdown",
   "metadata": {},
   "source": [
    "# z = 1 check"
   ]
  },
  {
   "cell_type": "code",
   "execution_count": 3,
   "metadata": {},
   "outputs": [],
   "source": [
    "\n",
    "showG=np.load('/data/dell5/userdir/hy/EAGLE-spin/enviroment/z_1/EAGLE_fil_256_smooth1.25_Rth0.25_200927.npy')\n",
    "showG=showG.reshape(N,N,N)"
   ]
  },
  {
   "cell_type": "code",
   "execution_count": 5,
   "metadata": {},
   "outputs": [
    {
     "name": "stdout",
     "output_type": "stream",
     "text": [
      "0.4546903371810913 0.3965796232223511 0.13845235109329224 0.01027768850326538\n"
     ]
    }
   ],
   "source": [
    "c=showG\n",
    "nn1=np.shape(np.where(c==0))\n",
    "nn2=np.shape(np.where(c==1))\n",
    "nn3=np.shape(np.where(c==2))\n",
    "nn4=np.shape(np.where(c==3))\n",
    "print(nn1[1]/N/N/N,nn2[1]/N/N/N,nn3[1]/N/N/N,nn4[1]/N/N/N)"
   ]
  },
  {
   "cell_type": "code",
   "execution_count": 2,
   "metadata": {},
   "outputs": [],
   "source": [
    "a = [1,3,231,31,43,54,53546,65,6,57]"
   ]
  },
  {
   "cell_type": "code",
   "execution_count": 8,
   "metadata": {},
   "outputs": [],
   "source": [
    " b=[0,2,4,6]"
   ]
  },
  {
   "cell_type": "code",
   "execution_count": 12,
   "metadata": {},
   "outputs": [],
   "source": [
    "b=np.int32(b)"
   ]
  },
  {
   "cell_type": "markdown",
   "metadata": {},
   "source": [
    "# z = 0.5 check"
   ]
  },
  {
   "cell_type": "code",
   "execution_count": 3,
   "metadata": {},
   "outputs": [
    {
     "name": "stdout",
     "output_type": "stream",
     "text": [
      "0.4294924736022949 0.40750277042388916 0.1529158353805542 0.010088920593261719\n"
     ]
    }
   ],
   "source": [
    "showG=np.load('/data/dell5/userdir/hy/EAGLE-spin/enviroment/z_0.5/EAGLE_fil_256_smooth1.25_Rth0.25_201014.npy')\n",
    "showG=showG.reshape(N,N,N)\n",
    "c=showG\n",
    "nn1=np.shape(np.where(c==0))\n",
    "nn2=np.shape(np.where(c==1))\n",
    "nn3=np.shape(np.where(c==2))\n",
    "nn4=np.shape(np.where(c==3))\n",
    "print(nn1[1]/N/N/N,nn2[1]/N/N/N,nn3[1]/N/N/N,nn4[1]/N/N/N)"
   ]
  },
  {
   "cell_type": "markdown",
   "metadata": {},
   "source": [
    "# z = 3 check"
   ]
  },
  {
   "cell_type": "code",
   "execution_count": 7,
   "metadata": {},
   "outputs": [
    {
     "name": "stdout",
     "output_type": "stream",
     "text": [
      "0.5794038772583008 0.33086973428726196 0.08313912153244019 0.00658726692199707\n"
     ]
    }
   ],
   "source": [
    "showG=np.load('/data/dell5/userdir/hy/EAGLE-spin/enviroment/z_3/EAGLE_fil_256_smooth1.25_Rth0.25_200928.npy')\n",
    "showG=showG.reshape(N,N,N)\n",
    "c=showG\n",
    "nn1=np.shape(np.where(c==0))\n",
    "nn2=np.shape(np.where(c==1))\n",
    "nn3=np.shape(np.where(c==2))\n",
    "nn4=np.shape(np.where(c==3))\n",
    "print(nn1[1]/N/N/N,nn2[1]/N/N/N,nn3[1]/N/N/N,nn4[1]/N/N/N)"
   ]
  },
  {
   "cell_type": "markdown",
   "metadata": {},
   "source": [
    "# z = 6 check"
   ]
  },
  {
   "cell_type": "code",
   "execution_count": 9,
   "metadata": {},
   "outputs": [
    {
     "name": "stdout",
     "output_type": "stream",
     "text": [
      "0.7877171039581299 0.18747597932815552 0.02379971742630005 0.0010071992874145508\n"
     ]
    }
   ],
   "source": [
    "showG=np.load('/data/dell5/userdir/hy/EAGLE-spin/enviroment/z_6/EAGLE_fil_256_smooth1.25_Rth0.25_200928.npy')\n",
    "showG=showG.reshape(N,N,N)\n",
    "c=showG\n",
    "nn1=np.shape(np.where(c==0))\n",
    "nn2=np.shape(np.where(c==1))\n",
    "nn3=np.shape(np.where(c==2))\n",
    "nn4=np.shape(np.where(c==3))\n",
    "print(nn1[1]/N/N/N,nn2[1]/N/N/N,nn3[1]/N/N/N,nn4[1]/N/N/N)"
   ]
  },
  {
   "cell_type": "code",
   "execution_count": null,
   "metadata": {},
   "outputs": [],
   "source": []
  }
 ],
 "metadata": {
  "kernelspec": {
   "display_name": "Python 3",
   "language": "python",
   "name": "python3"
  },
  "language_info": {
   "codemirror_mode": {
    "name": "ipython",
    "version": 3
   },
   "file_extension": ".py",
   "mimetype": "text/x-python",
   "name": "python",
   "nbconvert_exporter": "python",
   "pygments_lexer": "ipython3",
   "version": "3.7.2"
  }
 },
 "nbformat": 4,
 "nbformat_minor": 4
}
