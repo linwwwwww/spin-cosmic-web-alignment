{
 "cells": [
  {
   "cell_type": "code",
   "execution_count": 1,
   "metadata": {},
   "outputs": [],
   "source": [
    "import h5py\n",
    "import numpy as np\n",
    "import csv\n",
    "import eagle_python as eagle\n",
    "import read_eagle as read_particle"
   ]
  },
  {
   "cell_type": "code",
   "execution_count": 23,
   "metadata": {},
   "outputs": [],
   "source": [
    "r200=np.zeros([1])\n",
    "m200=np.zeros([1])\n",
    "pos=np.zeros([1,3])\n",
    "Vel=np.zeros([1,3])\n",
    "starmass=np.zeros([1])\n",
    "FirstSubID=np.zeros([1])\n",
    "for i in np.arange(256):\n",
    "    f = h5py.File('/Simulations/Eagle/RefL0100N1504/groups_028_z000p000/eagle_subfind_tab_028_z000p000.'+np.str(i)+'.hdf5', 'r')\n",
    "    r200=np.concatenate((r200,f['FOF']['Group_R_Crit200']))\n",
    "    pos=np.concatenate((pos,f['FOF']['GroupCentreOfPotential']))\n",
    "    m200=np.concatenate((m200,f['FOF']['Group_M_Crit200']))\n",
    "    Vel=np.concatenate((Vel,f[\"Subhalo\"][\"Velocity\"])) \n",
    "    starmass=np.concatenate((starmass,f['Subhalo']['Stars']['Mass']))     \n",
    "    FirstSubID = np.hstack((FirstSubID,np.array(f[\"FOF\"][\"FirstSubhaloID\"])))  \n",
    "r200 = np.delete(r200, 0, 0)\n",
    "Vel = np.delete(Vel, 0, 0)\n",
    "pos = np.delete(pos,0,0)\n",
    "m200 = np.delete(m200,0,0)\n",
    "starmass=np.delete(starmass,0,0)\n",
    "FirstSubID=np.delete(FirstSubID,0,0)"
   ]
  },
  {
   "cell_type": "code",
   "execution_count": null,
   "metadata": {},
   "outputs": [],
   "source": [
    "basePath= '/Simulations/Eagle/RefL0100N1504/'\n",
    "snapnum=28\n",
    "\n",
    "fields=['Coordinates','Velocity']\n",
    "\n",
    "for i in np.arange(len(FirstSubID)):\n",
    "    SubID = FirstSubID[i]\n",
    "    SubVel = Vel[int[SubID]]\n",
    "    "
   ]
  },
  {
   "cell_type": "code",
   "execution_count": 18,
   "metadata": {},
   "outputs": [
    {
     "data": {
      "text/plain": [
       "1885062"
      ]
     },
     "execution_count": 18,
     "metadata": {},
     "output_type": "execute_result"
    }
   ],
   "source": [
    "len(FirstSubID)"
   ]
  },
  {
   "cell_type": "code",
   "execution_count": 26,
   "metadata": {},
   "outputs": [
    {
     "data": {
      "text/plain": [
       "array([      0.,   17982.,   37654., ..., 2275507., 2275508., 2275509.])"
      ]
     },
     "execution_count": 26,
     "metadata": {},
     "output_type": "execute_result"
    }
   ],
   "source": [
    "FirstSubID[m200>1e-2]"
   ]
  },
  {
   "cell_type": "code",
   "execution_count": 6,
   "metadata": {},
   "outputs": [],
   "source": [
    "halo=np.load(\"/home/heyi/galaxy_spin_code/HeYi/spin_mass/revised_version/halo_pos_J_mass.npy\")"
   ]
  },
  {
   "cell_type": "code",
   "execution_count": 4,
   "metadata": {},
   "outputs": [
    {
     "name": "stdout",
     "output_type": "stream",
     "text": [
      "/Simulations/Eagle/RefL0100N1504//snapshot_028_z000p000/snap_028_z000p000.2.hdf5\n"
     ]
    }
   ],
   "source": [
    "basePath= '/Simulations/Eagle/RefL0100N1504/'\n",
    "snapnum=28\n",
    "fname   = eagle.snapshot.snapPath(basePath,snapnum,chunkNum=2)\n",
    "print(fname)"
   ]
  },
  {
   "cell_type": "code",
   "execution_count": 2,
   "metadata": {},
   "outputs": [
    {
     "name": "stdout",
     "output_type": "stream",
     "text": [
      "finish 1\n",
      "len(mass)=393684\n",
      "\n"
     ]
    }
   ],
   "source": [
    "import numpy as np\n",
    "import h5py\n",
    "import eagle_python as eagle\n",
    "import read_eagle as read_particle\n",
    "from multiprocessing import Pool\n",
    "import multiprocessing\n",
    "from tqdm import trange, tqdm\n",
    "import time\n",
    "time_start=time.time()\n",
    "\n",
    "#read data\n",
    "r200=np.zeros([1])\n",
    "mass=np.zeros([1])\n",
    "pos=np.zeros([1,3])\n",
    "GN=np.zeros([1])\n",
    "SGN=np.zeros([1])\n",
    "Vel=np.zeros([1,3])\n",
    "starmass=np.zeros([1])\n",
    "\n",
    "for i in np.arange(256):\n",
    "    f = h5py.File('/Simulations/Eagle/RefL0100N1504/groups_028_z000p000/eagle_subfind_tab_028_z000p000.'+np.str(i)+'.hdf5', 'r')\n",
    "    r200=np.concatenate((r200,f['FOF']['Group_R_Crit200']))\n",
    "\n",
    "    pos=np.concatenate((pos,f['FOF']['GroupCentreOfPotential']))\n",
    "    mass=np.concatenate((mass,f['FOF']['Group_M_Crit200']))\n",
    "    GroupNumber=f[\"Subhalo\"][\"GroupNumber\"]\n",
    "    GN=np.concatenate((GN,GroupNumber))\n",
    "    SubGroupNumber=f[\"Subhalo\"][\"SubGroupNumber\"]\n",
    "    SGN=np.concatenate((SGN,SubGroupNumber))\n",
    "    Vel=np.concatenate((Vel,f[\"Subhalo\"][\"Velocity\"])) \n",
    "    starmass=np.concatenate((starmass,f['Subhalo']['Stars']['Mass']))    \n",
    "    \n",
    "    \n",
    "r200 = np.delete(r200, 0, 0)\n",
    "Vel = np.delete(Vel, 0, 0)\n",
    "pos = np.delete(pos,0,0)\n",
    "mass = np.delete(mass,0,0)\n",
    "GN = np.delete(GN,0,0)\n",
    "SGN = np.delete(SGN,0,0)\n",
    "starmass=np.delete(starmass,0,0)\n",
    "\n",
    "\n",
    "\n",
    "main=np.int32(np.where(SGN==0))\n",
    "GN=GN[main]\n",
    "Vel=Vel[main] \n",
    "starmass=starmass[main]\n",
    "\n",
    "\n",
    "GN=np.int32(GN-1)\n",
    "\n",
    "GN=np.int32(GN)\n",
    "r200=r200[GN]\n",
    "pos=pos[GN]\n",
    "mass=mass[GN] \n",
    "\n",
    "num=(np.where(mass>=1e-1))\n",
    "r200=r200[num]\n",
    "pos=pos[num]\n",
    "mass=mass[num]\n",
    "Vel=Vel[num]\n",
    "starmass=starmass[num]\n",
    "\n",
    "np.save(\"starmass.npy\",starmass)\n",
    "\n",
    "print(\"finish 1\")\n",
    "print(\"len(mass)=%s\\n\"%(len(mass)))"
   ]
  },
  {
   "cell_type": "code",
   "execution_count": null,
   "metadata": {},
   "outputs": [],
   "source": []
  }
 ],
 "metadata": {
  "kernelspec": {
   "display_name": "Python 3",
   "language": "python",
   "name": "python3"
  },
  "language_info": {
   "codemirror_mode": {
    "name": "ipython",
    "version": 3
   },
   "file_extension": ".py",
   "mimetype": "text/x-python",
   "name": "python",
   "nbconvert_exporter": "python",
   "pygments_lexer": "ipython3",
   "version": "3.6.7"
  }
 },
 "nbformat": 4,
 "nbformat_minor": 2
}
